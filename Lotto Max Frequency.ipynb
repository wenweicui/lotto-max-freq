{
 "cells": [
  {
   "cell_type": "code",
   "execution_count": 77,
   "id": "4453c843",
   "metadata": {},
   "outputs": [],
   "source": [
    "import pprint\n",
    "\n",
    "list = [\n",
    "    #latest 2022-03-25\n",
    "    {3,7,16,18,27,32,37},\n",
    "    {14,16,20,26,33,36,48},\n",
    "    {5,7,12,18,26,29,46},\n",
    "    {3,7,12,17,23,38,40},\n",
    "    {5,7,12,22,28,43,47},\n",
    "    {10,12,13,18,25,26,37},\n",
    "    {2,4,14,18,24,46,47},\n",
    "    {5,6,28,36,40,46,50},\n",
    "    {2,4,17,28,35,44,46},\n",
    "    {3,13,26,27,28,36,45},\n",
    "    {2,3,8,11,12,37,49},\n",
    "    {19,26,28,36,40,42,48},\n",
    "    {1,10,12,30,33,34,36},\n",
    "    {16,29,32,34,38,39,47},\n",
    "    {5,15,19,22,37,46,47},\n",
    "    {9,14,24,26,29,39,49},\n",
    "    {3,7,8,10,34,43,47},\n",
    "    {11,13,18,20,23,30,40},\n",
    "    {10,14,21,26,28,36,50},\n",
    "    {2,15,25,28,30,35,38},\n",
    "    {2,4,7,10,14,21,34},\n",
    "    {1,3,24,25,27,36,47},\n",
    "    {4,5,31,39,42,45,50},\n",
    "    {7,8,13,20,25,26,48}\n",
    "]\n",
    "freq = {}"
   ]
  },
  {
   "cell_type": "code",
   "execution_count": 78,
   "id": "cc1a3f81",
   "metadata": {},
   "outputs": [],
   "source": [
    "def frequency(a, x):\n",
    "    count = 0\n",
    "    \n",
    "    for set in a:\n",
    "        for num in set:\n",
    "            if num == x: count += 1\n",
    "    freq[x] = count"
   ]
  },
  {
   "cell_type": "code",
   "execution_count": 79,
   "id": "ca53b074",
   "metadata": {
    "scrolled": true
   },
   "outputs": [],
   "source": [
    "for set in list:\n",
    "    for num in set:\n",
    "        frequency(list, num)"
   ]
  },
  {
   "cell_type": "code",
   "execution_count": 80,
   "id": "c3e03647",
   "metadata": {},
   "outputs": [
    {
     "name": "stdout",
     "output_type": "stream",
     "text": [
      "{1: 2,\n",
      " 2: 5,\n",
      " 3: 6,\n",
      " 4: 4,\n",
      " 5: 5,\n",
      " 6: 1,\n",
      " 7: 7,\n",
      " 8: 3,\n",
      " 9: 1,\n",
      " 10: 5,\n",
      " 11: 2,\n",
      " 12: 6,\n",
      " 13: 4,\n",
      " 14: 5,\n",
      " 15: 2,\n",
      " 16: 3,\n",
      " 17: 2,\n",
      " 18: 5,\n",
      " 19: 2,\n",
      " 20: 3,\n",
      " 21: 2,\n",
      " 22: 2,\n",
      " 23: 2,\n",
      " 24: 3,\n",
      " 25: 4,\n",
      " 26: 8,\n",
      " 27: 3,\n",
      " 28: 7,\n",
      " 29: 3,\n",
      " 30: 3,\n",
      " 31: 1,\n",
      " 32: 2,\n",
      " 33: 2,\n",
      " 34: 4,\n",
      " 35: 2,\n",
      " 36: 7,\n",
      " 37: 4,\n",
      " 38: 3,\n",
      " 39: 3,\n",
      " 40: 4,\n",
      " 42: 2,\n",
      " 43: 2,\n",
      " 44: 1,\n",
      " 45: 2,\n",
      " 46: 5,\n",
      " 47: 6,\n",
      " 48: 3,\n",
      " 49: 2,\n",
      " 50: 3}\n"
     ]
    }
   ],
   "source": [
    "pp = pprint.PrettyPrinter(indent=1)\n",
    "pp.pprint(freq)"
   ]
  },
  {
   "cell_type": "code",
   "execution_count": null,
   "id": "9787dcb3",
   "metadata": {},
   "outputs": [],
   "source": []
  }
 ],
 "metadata": {
  "kernelspec": {
   "display_name": "Python 3 (ipykernel)",
   "language": "python",
   "name": "python3"
  },
  "language_info": {
   "codemirror_mode": {
    "name": "ipython",
    "version": 3
   },
   "file_extension": ".py",
   "mimetype": "text/x-python",
   "name": "python",
   "nbconvert_exporter": "python",
   "pygments_lexer": "ipython3",
   "version": "3.9.7"
  }
 },
 "nbformat": 4,
 "nbformat_minor": 5
}
